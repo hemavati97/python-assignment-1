{
  "nbformat": 4,
  "nbformat_minor": 0,
  "metadata": {
    "colab": {
      "name": "Untitled5.ipynb",
      "provenance": [],
      "collapsed_sections": [],
      "authorship_tag": "ABX9TyOHikpduQPXtji2dPX3avCy",
      "include_colab_link": true
    },
    "kernelspec": {
      "name": "python3",
      "display_name": "Python 3"
    }
  },
  "cells": [
    {
      "cell_type": "markdown",
      "metadata": {
        "id": "view-in-github",
        "colab_type": "text"
      },
      "source": [
        "<a href=\"https://colab.research.google.com/github/hemavati97/python-assignment-1/blob/main/Untitled5.ipynb\" target=\"_parent\"><img src=\"https://colab.research.google.com/assets/colab-badge.svg\" alt=\"Open In Colab\"/></a>"
      ]
    },
    {
      "cell_type": "code",
      "metadata": {
        "id": "EDq5-PmR0j49",
        "outputId": "950410de-0000-4c39-f0f2-e3804ebc654c",
        "colab": {
          "base_uri": "https://localhost:8080/"
        }
      },
      "source": [
        "def do_mul(x1, x2): \n",
        "    return x1 * x2\n",
        "\n",
        "def my_reduce(func, seq):\n",
        "    first = seq[0]\n",
        "    for i in seq[1:]:\n",
        "        first = func(first, i)\n",
        "    return first\n",
        "\n",
        "print(my_reduce(do_mul, [1, 2, 3, 4]))"
      ],
      "execution_count": 1,
      "outputs": [
        {
          "output_type": "stream",
          "text": [
            "24\n"
          ],
          "name": "stdout"
        }
      ]
    },
    {
      "cell_type": "code",
      "metadata": {
        "id": "c0k5EtFE2SYW"
      },
      "source": [
        ""
      ],
      "execution_count": null,
      "outputs": []
    },
    {
      "cell_type": "code",
      "metadata": {
        "id": "WXwoRITj0yjR",
        "outputId": "3af3e5e7-26bc-49df-d3b1-1a8c291d9ebc",
        "colab": {
          "base_uri": "https://localhost:8080/"
        }
      },
      "source": [
        "def do_mul(x1, x2): \n",
        "    return x1 * x2\n",
        "\n",
        "def myfilter(func, seq):\n",
        "    first = seq[0]\n",
        "    for i in seq[1:]:\n",
        "        first = func(first, i)\n",
        "    return first\n",
        "\n",
        "print(myfilter(do_mul, [1, 2, 3, 4]))"
      ],
      "execution_count": 2,
      "outputs": [
        {
          "output_type": "stream",
          "text": [
            "24\n"
          ],
          "name": "stdout"
        }
      ]
    },
    {
      "cell_type": "code",
      "metadata": {
        "id": "Ow1uqNZ6051b",
        "outputId": "5bcebf2a-efba-4553-f0a5-e8546b3fadb6",
        "colab": {
          "base_uri": "https://localhost:8080/"
        }
      },
      "source": [
        "input_list = ['x','y','z']\n",
        "result = [ item*num for item in input_list for num in range(1,5)  ]\n",
        "print(\"['x','y','z'] => \" +   str(result))\n",
        "\n",
        "input_list = ['x','y','z']\n",
        "result = [ item*num for num in range(1,5) for item in input_list  ]\n",
        "print(\"['x','y','z'] => \" +   str(result))\n",
        "\n",
        "input_list = [2,3,4]\n",
        "result = [ [item+num] for item in input_list for num in range(0,3)]\n",
        "print(\"[2,3,4] =>\" +  str(result))\n",
        "\n",
        "\n",
        "input_list = [2,3,4,5]\n",
        "result = [ [item+num for item in input_list] for num in range(0,4)  ]\n",
        "print(\"[2,3,4,5] =>\" +  str(result))\n",
        "\n",
        "input_list=[1,2,3]\n",
        "result = [ (b,a) for a in input_list for b in input_list]\n",
        "print(\"[1,2,3] =>\" +  str(result))\n"
      ],
      "execution_count": 3,
      "outputs": [
        {
          "output_type": "stream",
          "text": [
            "['x','y','z'] => ['x', 'xx', 'xxx', 'xxxx', 'y', 'yy', 'yyy', 'yyyy', 'z', 'zz', 'zzz', 'zzzz']\n",
            "['x','y','z'] => ['x', 'y', 'z', 'xx', 'yy', 'zz', 'xxx', 'yyy', 'zzz', 'xxxx', 'yyyy', 'zzzz']\n",
            "[2,3,4] =>[[2], [3], [4], [3], [4], [5], [4], [5], [6]]\n",
            "[2,3,4,5] =>[[2, 3, 4, 5], [3, 4, 5, 6], [4, 5, 6, 7], [5, 6, 7, 8]]\n",
            "[1,2,3] =>[(1, 1), (2, 1), (3, 1), (1, 2), (2, 2), (3, 2), (1, 3), (2, 3), (3, 3)]\n"
          ],
          "name": "stdout"
        }
      ]
    },
    {
      "cell_type": "code",
      "metadata": {
        "id": "Bw9qxCkN0-3i"
      },
      "source": [
        ""
      ],
      "execution_count": null,
      "outputs": []
    }
  ]
}